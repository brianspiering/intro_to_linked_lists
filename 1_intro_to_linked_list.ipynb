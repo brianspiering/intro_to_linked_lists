{
 "cells": [
  {
   "cell_type": "markdown",
   "metadata": {
    "slideshow": {
     "slide_type": "skip"
    },
    "toc": true
   },
   "source": [
    "<h1>Table of Contents<span class=\"tocSkip\"></span></h1>\n",
    "<div class=\"toc\"><ul class=\"toc-item\"><li><span><a href=\"#Introduction-to-Linked-Lists-in-Python\" data-toc-modified-id=\"Introduction-to-Linked-Lists-in-Python-1\">Introduction to Linked Lists in Python</a></span></li><li><span><a href=\"#Agenda\" data-toc-modified-id=\"Agenda-2\">Agenda</a></span></li><li><span><a href=\"#Learning-Outcomes\" data-toc-modified-id=\"Learning-Outcomes-3\">Learning Outcomes</a></span></li><li><span><a href=\"#Linked-Lists-are-Scavenger-Hunts\" data-toc-modified-id=\"Linked-Lists-are-Scavenger-Hunts-4\">Linked Lists are Scavenger Hunts</a></span></li><li><span><a href=\"#Why-are-Linked-Lists-important?\" data-toc-modified-id=\"Why-are-Linked-Lists-important?-5\">Why are Linked Lists important?</a></span></li><li><span><a href=\"#Let's-See-a-Linked-List\" data-toc-modified-id=\"Let's-See-a-Linked-List-6\">Let's See a Linked List</a></span></li><li><span><a href=\"#What-is-a-practical-example-of-a-Linked-List?\" data-toc-modified-id=\"What-is-a-practical-example-of-a-Linked-List?-7\">What is a practical example of a Linked List?</a></span></li><li><span><a href=\"#Let's-code-a-Linked-List-in-Python\" data-toc-modified-id=\"Let's-code-a-Linked-List-in-Python-8\">Let's code a Linked List in Python</a></span></li><li><span><a href=\"#Let's-make-a-linked-list-of-emojis\" data-toc-modified-id=\"Let's-make-a-linked-list-of-emojis-9\">Let's make a linked list of emojis</a></span></li><li><span><a href=\"#Let's-make-another-linked-list-of-emojis\" data-toc-modified-id=\"Let's-make-another-linked-list-of-emojis-10\">Let's make another linked list of emojis</a></span></li><li><span><a href=\"#How-can-we-explore-our-linked-lists?\" data-toc-modified-id=\"How-can-we-explore-our-linked-lists?-11\">How can we explore our linked lists?</a></span></li><li><span><a href=\"#Student-Choice\" data-toc-modified-id=\"Student-Choice-12\">Student Choice</a></span></li><li><span><a href=\"#Reverse-a-linked-list\" data-toc-modified-id=\"Reverse-a-linked-list-13\">Reverse a linked list</a></span></li><li><span><a href=\"#Modern-Python-version-of-a-Linked-List\" data-toc-modified-id=\"Modern-Python-version-of-a-Linked-List-14\">Modern Python version of a Linked List</a></span></li><li><span><a href=\"#Student-Activity:-\" data-toc-modified-id=\"Student-Activity:--15\">Student Activity: </a></span></li><li><span><a href=\"#Takeaways\" data-toc-modified-id=\"Takeaways-16\">Takeaways</a></span></li><li><span><a href=\"#Further-Study\" data-toc-modified-id=\"Further-Study-17\">Further Study</a></span></li></ul></div>"
   ]
  },
  {
   "cell_type": "markdown",
   "metadata": {
    "slideshow": {
     "slide_type": "slide"
    }
   },
   "source": [
    "<center><h2>Introduction to Linked Lists in Python</h2></center>"
   ]
  },
  {
   "cell_type": "markdown",
   "metadata": {
    "slideshow": {
     "slide_type": "slide"
    }
   },
   "source": [
    "<b><center><a href=\"https://www.cs.usfca.edu/~galles/visualization/Algorithms.html\">Data Structure Visualizations</a></center></b>"
   ]
  },
  {
   "cell_type": "markdown",
   "metadata": {
    "slideshow": {
     "slide_type": "slide"
    }
   },
   "source": [
    "Agenda\n",
    "-----\n",
    "\n",
    "1. Why are linked lists important?\n",
    "2. What are linked lists?\n",
    "3. How are linked lists implemented in Python?\n",
    "4. What can you do with a linked list?"
   ]
  },
  {
   "cell_type": "markdown",
   "metadata": {
    "slideshow": {
     "slide_type": "slide"
    }
   },
   "source": [
    "<center><h2>Learning Outcomes</h2></center>\n",
    "\n",
    "__By the end of this session, you should be able to__:\n",
    "\n",
    "- Explain why linked lists are important in your own words.\n",
    "- Draw a linked lists and identify the parts.\n",
    "- Code a linked list and common linked list operations in Python."
   ]
  },
  {
   "cell_type": "markdown",
   "metadata": {
    "slideshow": {
     "slide_type": "slide"
    }
   },
   "source": [
    "<center><h2>Linked Lists are Scavenger Hunts</h2></center>\n",
    "\n",
    "<p style=\"font-size: 0.9rem;font-style: italic;\"><img style=\"display: block;\" src=\"https://upload.wikimedia.org/wikipedia/commons/e/ea/Noun_Project_Treasure_Map_1460610_cc.svg\" alt=\"File:Noun Project Treasure Map 1460610 cc.svg\"><a href=\"https://commons.wikimedia.org/w/index.php?curid=65557657\">\"File:Noun Project Treasure Map 1460610 cc.svg\"</a><span> by <a href=\"https://thenounproject.com/Becris\">Becris</a></span> is licensed under <a href=\"https://creativecommons.org/licenses/by-sa/4.0?ref=ccsearch&atype=html\" style=\"margin-right: 5px;\">CC BY-SA 4.0</a><a href=\"https://creativecommons.org/licenses/by-sa/4.0?ref=ccsearch&atype=html\" target=\"_blank\" rel=\"noopener noreferrer\" style=\"display: inline-block;white-space: none;margin-top: 2px;margin-left: 3px;height: 22px !important;\"><img style=\"height: inherit;margin-right: 3px;display: inline-block;\" src=\"https://search.creativecommons.org/static/img/cc_icon.svg\" /><img style=\"height: inherit;margin-right: 3px;display: inline-block;\" src=\"https://search.creativecommons.org/static/img/cc-by_icon.svg\" /><img style=\"height: inherit;margin-right: 3px;display: inline-block;\" src=\"https://search.creativecommons.org/static/img/cc-sa_icon.svg\" /></a></p>"
   ]
  },
  {
   "cell_type": "markdown",
   "metadata": {
    "slideshow": {
     "slide_type": "skip"
    }
   },
   "source": [
    "You have a clue, and that clue has a pointer to place to find the next clue. \n",
    "\n",
    "So you go to the next place and get another piece of data, and another pointer. \n",
    "\n",
    "To get something in the middle, or at the end, the only way to get to it is to follow this list from the beginning "
   ]
  },
  {
   "cell_type": "markdown",
   "metadata": {
    "slideshow": {
     "slide_type": "slide"
    }
   },
   "source": [
    "<center><h2>Why are Linked Lists important?</h2></center>"
   ]
  },
  {
   "cell_type": "markdown",
   "metadata": {
    "slideshow": {
     "slide_type": "fragment"
    }
   },
   "source": [
    "- It will be on the test. By the test, I mean a software engineering interview."
   ]
  },
  {
   "cell_type": "markdown",
   "metadata": {
    "slideshow": {
     "slide_type": "fragment"
    }
   },
   "source": [
    "- Fundamental for understanding how software works with hardware."
   ]
  },
  {
   "cell_type": "markdown",
   "metadata": {
    "slideshow": {
     "slide_type": "slide"
    }
   },
   "source": [
    "<center><h2>Let's See a Linked List</h2></center>"
   ]
  },
  {
   "cell_type": "markdown",
   "metadata": {
    "slideshow": {
     "slide_type": "skip"
    }
   },
   "source": [
    "\n",
    "\n",
    "<center><img src=\"images/linked-list.png\" width=\"75%\"/></center>\n",
    "\n",
    "<center><img src=\"images/connected-list.png\" width=\"75%\"/></center>\n",
    "\n",
    "- A string of nodes.\n",
    "- Each node contains:\n",
    "    - Data (number, string, image, or anything)\n",
    "    - Reference to the next node. This reference is also called a pointer."
   ]
  },
  {
   "cell_type": "markdown",
   "metadata": {
    "slideshow": {
     "slide_type": "slide"
    }
   },
   "source": [
    "<center><h2>What is a practical example of a Linked List?</h2></center>"
   ]
  },
  {
   "cell_type": "markdown",
   "metadata": {
    "slideshow": {
     "slide_type": "fragment"
    }
   },
   "source": [
    "<center><b>Music or video playlists</b></center>\n",
    "\n",
    "<p style=\"font-size: 0.9rem;font-style: italic;\"><img style=\"display: block;\" src=\"https://live.staticflickr.com/7073/7125910379_60b09ed69a_b.jpg\" alt=\"blip playlist\"><a href=\"https://www.flickr.com/photos/77265262@N00/7125910379\">\"blip playlist\"</a><span> by <a href=\"https://www.flickr.com/photos/77265262@N00\">Learn4Life</a></span> is licensed under <a "
   ]
  },
  {
   "cell_type": "markdown",
   "metadata": {
    "slideshow": {
     "slide_type": "slide"
    }
   },
   "source": [
    "<center><h2>Let's code a Linked List in Python</h2></center>"
   ]
  },
  {
   "cell_type": "code",
   "execution_count": 47,
   "metadata": {
    "slideshow": {
     "slide_type": "skip"
    }
   },
   "outputs": [],
   "source": [
    "reset -fs"
   ]
  },
  {
   "cell_type": "code",
   "execution_count": null,
   "metadata": {
    "slideshow": {
     "slide_type": "fragment"
    }
   },
   "outputs": [],
   "source": [
    "\n",
    "\n",
    "\n",
    "\n",
    "\n",
    "\n"
   ]
  },
  {
   "cell_type": "code",
   "execution_count": 48,
   "metadata": {
    "slideshow": {
     "slide_type": "skip"
    }
   },
   "outputs": [],
   "source": [
    "class Node:\n",
    "    \"A single node in a linked list.\"\n",
    "    def __init__(self, value, next_node=None):\n",
    "        self.value = value         # Data stored in node\n",
    "        self.next_node = next_node # Pointer to the next node"
   ]
  },
  {
   "cell_type": "markdown",
   "metadata": {
    "slideshow": {
     "slide_type": "slide"
    }
   },
   "source": [
    "<center><h2>Let's make a linked list of emojis</h2></center>\n",
    "\n",
    "What are the first, second, third, … emojis in our linked list?"
   ]
  },
  {
   "cell_type": "code",
   "execution_count": null,
   "metadata": {
    "slideshow": {
     "slide_type": "fragment"
    }
   },
   "outputs": [],
   "source": [
    "\n",
    "\n",
    "\n",
    "\n",
    "\n",
    "\n",
    "\n"
   ]
  },
  {
   "cell_type": "code",
   "execution_count": 49,
   "metadata": {
    "slideshow": {
     "slide_type": "skip"
    }
   },
   "outputs": [],
   "source": [
    "# First, define the data\n",
    "node_1 = Node(value=\"😀\") \n",
    "node_2 = Node(value=\"😸\")\n",
    "node_3 = Node(value=\"😈\")\n",
    "\n",
    "# Second, add connections between the data\n",
    "node_1.next_node = node_2 \n",
    "node_2.next_node = node_3\n",
    "\n",
    "# Head is the first item in list\n",
    "# The end of linked list is None / NULL"
   ]
  },
  {
   "cell_type": "markdown",
   "metadata": {
    "slideshow": {
     "slide_type": "slide"
    }
   },
   "source": [
    "<center><h2>Let's make another linked list of emojis</h2></center>\n",
    "\n",
    "What are the first, second, third, … emojis in our linked list?"
   ]
  },
  {
   "cell_type": "code",
   "execution_count": null,
   "metadata": {
    "slideshow": {
     "slide_type": "fragment"
    }
   },
   "outputs": [],
   "source": [
    "\n",
    "\n",
    "\n",
    "\n",
    "\n"
   ]
  },
  {
   "cell_type": "code",
   "execution_count": 50,
   "metadata": {
    "slideshow": {
     "slide_type": "skip"
    }
   },
   "outputs": [],
   "source": [
    "# Declare new linked list.\n",
    "# Let's make it a dance party!\n",
    "\n",
    "n3 = Node(value=\"🕺\", next_node=None)\n",
    "n2 = Node(value=\"💃\", next_node=n3)\n",
    "n1 = Node(value=\"👯\", next_node=n2)\n",
    "# Must do it reverse order!"
   ]
  },
  {
   "cell_type": "code",
   "execution_count": 51,
   "metadata": {
    "slideshow": {
     "slide_type": "skip"
    }
   },
   "outputs": [],
   "source": [
    "# Setup Python Tutor in the notebook\n",
    "from metakernel import register_ipython_magics\n",
    "\n",
    "register_ipython_magics()"
   ]
  },
  {
   "cell_type": "code",
   "execution_count": 52,
   "metadata": {
    "slideshow": {
     "slide_type": "slide"
    }
   },
   "outputs": [
    {
     "data": {
      "text/html": [
       "\n",
       "        <iframe\n",
       "            width=\"100%\"\n",
       "            height=\"500\"\n",
       "            src=\"https://pythontutor.com/iframe-embed.html#code=%0Aclass%20Node%3A%0A%20%20%20%20%22A%20single%20node%20in%20a%20linked%20list.%22%0A%20%20%20%20def%20__init__%28self%2C%20value%2C%20next_node%3DNone%29%3A%0A%20%20%20%20%20%20%20%20self.value%20%3D%20value%20%20%20%20%20%20%20%20%20%23%20Data%20stored%20in%20node%0A%20%20%20%20%20%20%20%20self.next_node%20%3D%20next_node%20%23%20Pointer%20to%20the%20next%20node%0A%20%20%20%20%20%20%20%20%0An3%20%3D%20Node%28value%3D%22%F0%9F%95%BA%22%2C%20next_node%3DNone%29%0An2%20%3D%20Node%28value%3D%22%F0%9F%92%83%22%2C%20next_node%3Dn3%29%0An1%20%3D%20Node%28value%3D%22%F0%9F%91%AF%22%2C%20next_node%3Dn2%29%0A&origin=opt-frontend.js&cumulative=false&heapPrimitives=false&textReferences=false&py=3&rawInputLstJSON=%5B%5D&curInstr=0&codeDivWidth=350&codeDivHeight=400\"\n",
       "            frameborder=\"0\"\n",
       "            allowfullscreen\n",
       "        ></iframe>\n",
       "        "
      ],
      "text/plain": [
       "<IPython.lib.display.IFrame at 0x104de2a00>"
      ]
     },
     "metadata": {},
     "output_type": "display_data"
    }
   ],
   "source": [
    "%%tutor\n",
    "\n",
    "class Node:\n",
    "    \"A single node in a linked list.\"\n",
    "    def __init__(self, value, next_node=None):\n",
    "        self.value = value         # Data stored in node\n",
    "        self.next_node = next_node # Pointer to the next node\n",
    "        \n",
    "n3 = Node(value=\"🕺\", next_node=None)\n",
    "n2 = Node(value=\"💃\", next_node=n3)\n",
    "n1 = Node(value=\"👯\", next_node=n2)"
   ]
  },
  {
   "cell_type": "markdown",
   "metadata": {
    "slideshow": {
     "slide_type": "slide"
    }
   },
   "source": [
    "<center><h2>How can we explore our linked lists?</h2></center>\n",
    "\n",
    "We want to write a function to traverse our linked lists.\n",
    "\n",
    "What should the output of the function be?"
   ]
  },
  {
   "cell_type": "markdown",
   "metadata": {
    "slideshow": {
     "slide_type": "fragment"
    }
   },
   "source": [
    "```\n",
    "😀 -> 😸 -> 😈 -> None (At the end!)\n",
    "👯 -> 💃 -> 🕺 -> 👽 -> None (At the end!)\n",
    "```"
   ]
  },
  {
   "cell_type": "markdown",
   "metadata": {
    "slideshow": {
     "slide_type": "slide"
    }
   },
   "source": [
    "\n",
    "\n",
    "```python\n",
    "# Reorder this code to traverse a linked list\n",
    "\n",
    "current_node = head\n",
    "break\n",
    "while True:\n",
    "print(current_node.value, \"->\", end=\" \")\n",
    "print(\"None (At the end!)\")\n",
    "if current_node.next_node is None:\n",
    "current_node = current_node.next_node\n",
    "def traverse(head):\n",
    "```"
   ]
  },
  {
   "cell_type": "code",
   "execution_count": 53,
   "metadata": {
    "slideshow": {
     "slide_type": "slide"
    }
   },
   "outputs": [
    {
     "name": "stdout",
     "output_type": "stream",
     "text": [
      "😀 -> 😸 -> 😈 -> None (At the end!)\n",
      "👯 -> 💃 -> 🕺 -> None (At the end!)\n"
     ]
    }
   ],
   "source": [
    "def traverse(head):\n",
    "    \"Traverse a linked list from head to tail.\"\n",
    "    current_node = head\n",
    "    while True:\n",
    "        print(current_node.value, \"->\", end=\" \")\n",
    "        if current_node.next_node is None:\n",
    "            print(\"None (At the end!)\")\n",
    "            break\n",
    "        current_node = current_node.next_node\n",
    "        \n",
    "traverse(node_1)\n",
    "traverse(n1)"
   ]
  },
  {
   "cell_type": "code",
   "execution_count": 54,
   "metadata": {
    "slideshow": {
     "slide_type": "slide"
    }
   },
   "outputs": [],
   "source": [
    "n3 = Node(value=\"🕺\", next_node=None)\n",
    "n2 = Node(value=\"💃\", next_node=n3)\n",
    "n1 = Node(value=\"👯\", next_node=n2)\n",
    "\n",
    "# How do we add another node to the end of the linked list?\n",
    "\n",
    "\n"
   ]
  },
  {
   "cell_type": "code",
   "execution_count": 55,
   "metadata": {
    "slideshow": {
     "slide_type": "skip"
    }
   },
   "outputs": [
    {
     "name": "stdout",
     "output_type": "stream",
     "text": [
      "👯 -> 💃 -> 🕺 -> 👽 -> None (At the end!)\n"
     ]
    }
   ],
   "source": [
    "n4 = Node(value=\"👽\", next_node=None)\n",
    "n3.next_node = n4\n",
    "traverse(n1)"
   ]
  },
  {
   "cell_type": "code",
   "execution_count": 56,
   "metadata": {
    "slideshow": {
     "slide_type": "slide"
    }
   },
   "outputs": [],
   "source": [
    "# How do we add another node in the middle of the linked list?\n",
    "\n",
    "\n"
   ]
  },
  {
   "cell_type": "code",
   "execution_count": 57,
   "metadata": {
    "slideshow": {
     "slide_type": "skip"
    }
   },
   "outputs": [
    {
     "name": "stdout",
     "output_type": "stream",
     "text": [
      "👯 -> 💃 -> 🤯 -> 🕺 -> 👽 -> None (At the end!)\n"
     ]
    }
   ],
   "source": [
    "n2_5 = Node(value=\"🤯\", next_node=n3)\n",
    "n2.next_node=n2_5\n",
    "traverse(n1)"
   ]
  },
  {
   "cell_type": "code",
   "execution_count": 58,
   "metadata": {
    "slideshow": {
     "slide_type": "slide"
    }
   },
   "outputs": [],
   "source": [
    "# How do we remove a node in the middle of the linked list?\n",
    "\n",
    "\n",
    "\n"
   ]
  },
  {
   "cell_type": "code",
   "execution_count": 59,
   "metadata": {
    "slideshow": {
     "slide_type": "skip"
    }
   },
   "outputs": [
    {
     "name": "stdout",
     "output_type": "stream",
     "text": [
      "👯 -> 💃 -> 🕺 -> 👽 -> None (At the end!)\n"
     ]
    }
   ],
   "source": [
    "# Change where the next_node points to\n",
    "n2.next_node=n3\n",
    "traverse(n1)"
   ]
  },
  {
   "cell_type": "markdown",
   "metadata": {
    "slideshow": {
     "slide_type": "slide"
    }
   },
   "source": [
    "<center><h2>Student Choice</h2></center>\n",
    "\n",
    "1. Reverse a linked list\n",
    "2. Modern Python version"
   ]
  },
  {
   "cell_type": "markdown",
   "metadata": {
    "slideshow": {
     "slide_type": "slide"
    }
   },
   "source": [
    "<center><h2>Reverse a linked list</h2></center>"
   ]
  },
  {
   "cell_type": "code",
   "execution_count": null,
   "metadata": {
    "slideshow": {
     "slide_type": "fragment"
    }
   },
   "outputs": [],
   "source": [
    "\n",
    "\n",
    "\n",
    "\n",
    "\n",
    "\n",
    "\n",
    "\n",
    "\n"
   ]
  },
  {
   "cell_type": "code",
   "execution_count": 60,
   "metadata": {
    "slideshow": {
     "slide_type": "skip"
    }
   },
   "outputs": [
    {
     "name": "stdout",
     "output_type": "stream",
     "text": [
      "99 -> 98 -> 97 -> 96 -> None (At the end!)\n",
      "96 -> 97 -> 98 -> 99 -> None (At the end!)\n"
     ]
    }
   ],
   "source": [
    "# Define list with data and links\n",
    "n3 = Node(96, next_node=None)\n",
    "n2 = Node(97, next_node=n3)\n",
    "n1 = Node(98, next_node=n2)\n",
    "n0 = Node(99, next_node=n1)\n",
    "\n",
    "traverse(n0)\n",
    "\n",
    "def reverse_iterative(head):\n",
    "    \"Reverse a singly linked list iteratively.\"\n",
    "    last = None\n",
    "    current = head\n",
    "\n",
    "    while (current is not None):\n",
    "        next_node = current.next_node\n",
    "        current.next_node = last\n",
    "        last = current\n",
    "        current = next_node\n",
    "\n",
    "    return last\n",
    "\n",
    "reverse_iterative(n0)\n",
    "traverse(n3)"
   ]
  },
  {
   "cell_type": "markdown",
   "metadata": {
    "slideshow": {
     "slide_type": "slide"
    }
   },
   "source": [
    "<center><h2>Modern Python version of a Linked List</h2></center>"
   ]
  },
  {
   "cell_type": "code",
   "execution_count": null,
   "metadata": {
    "slideshow": {
     "slide_type": "fragment"
    }
   },
   "outputs": [],
   "source": [
    "\n",
    "\n",
    "\n",
    "\n",
    "\n",
    "\n",
    "\n",
    "\n",
    "\n",
    "\n",
    "\n"
   ]
  },
  {
   "cell_type": "code",
   "execution_count": 61,
   "metadata": {
    "slideshow": {
     "slide_type": "skip"
    }
   },
   "outputs": [
    {
     "name": "stdout",
     "output_type": "stream",
     "text": [
      "👯 -> 💃 -> 🕺 -> None (At the end!)\n"
     ]
    }
   ],
   "source": [
    "from __future__ import annotations\n",
    "from dataclasses import dataclass\n",
    "from typing import Optional\n",
    "\n",
    "@dataclass\n",
    "class Node:\n",
    "    value: str = \"\"\n",
    "    next_node: Optional[Node] = None\n",
    "        \n",
    "n3 = Node(value=\"🕺\", next_node=None)\n",
    "n2 = Node(value=\"💃\", next_node=n3)\n",
    "n1 = Node(value=\"👯\", next_node=n2)\n",
    "\n",
    "traverse(n1)"
   ]
  },
  {
   "cell_type": "markdown",
   "metadata": {
    "slideshow": {
     "slide_type": "slide"
    }
   },
   "source": [
    "<center><h2>Student Activity: </h2></center>\n",
    "\n",
    "Think, Pair, Share:\n",
    "\n",
    "- Why are linked lists important?\n",
    "- When would you use a linked list?\n",
    "- What are the two parts of a node in a linked list?\n",
    "- What is special about the head and tail of a linked list?"
   ]
  },
  {
   "cell_type": "markdown",
   "metadata": {
    "slideshow": {
     "slide_type": "slide"
    }
   },
   "source": [
    "<center><h2>Takeaways</h2></center>\n",
    "\n",
    "- Linked lists are common in technical interview and help understand the interplay between software and hardware.\n"
   ]
  },
  {
   "cell_type": "markdown",
   "metadata": {
    "slideshow": {
     "slide_type": "fragment"
    }
   },
   "source": [
    "- Linked lists allow the connections between different objects.\n"
   ]
  },
  {
   "cell_type": "markdown",
   "metadata": {
    "slideshow": {
     "slide_type": "fragment"
    }
   },
   "source": [
    "- Nodes of a linked contain data and reference to the next.\n"
   ]
  },
  {
   "cell_type": "markdown",
   "metadata": {
    "slideshow": {
     "slide_type": "fragment"
    }
   },
   "source": [
    "- The head is the first node and no other nodes point to it. The tail is the last node and points to no other nodes."
   ]
  },
  {
   "cell_type": "markdown",
   "metadata": {
    "slideshow": {
     "slide_type": "slide"
    }
   },
   "source": [
    "<center><h2>Further Study</h2></center>\n",
    "\n",
    "\n",
    "Many kinds of linked lists:\n",
    "\n",
    "- Singly linked list - Each node only points to the next node.\n",
    "\n"
   ]
  },
  {
   "cell_type": "markdown",
   "metadata": {
    "slideshow": {
     "slide_type": "fragment"
    }
   },
   "source": [
    "- Doubly linked list - Each node points to the next node __and__ the previous node.\n",
    "\n"
   ]
  },
  {
   "cell_type": "markdown",
   "metadata": {
    "slideshow": {
     "slide_type": "fragment"
    }
   },
   "source": [
    "- Circularly linked lists - The first element points to the last element and the last element points to the first element.\n"
   ]
  },
  {
   "cell_type": "markdown",
   "metadata": {
    "slideshow": {
     "slide_type": "slide"
    }
   },
   "source": [
    "<br>\n",
    "<br> \n",
    "<br>\n",
    "\n",
    "----"
   ]
  }
 ],
 "metadata": {
  "celltoolbar": "Slideshow",
  "kernelspec": {
   "display_name": "Python 3",
   "language": "python",
   "name": "python3"
  },
  "language_info": {
   "codemirror_mode": {
    "name": "ipython",
    "version": 3
   },
   "file_extension": ".py",
   "mimetype": "text/x-python",
   "name": "python",
   "nbconvert_exporter": "python",
   "pygments_lexer": "ipython3",
   "version": "3.8.2"
  },
  "toc": {
   "base_numbering": 1,
   "nav_menu": {},
   "number_sections": false,
   "sideBar": false,
   "skip_h1_title": false,
   "title_cell": "Table of Contents",
   "title_sidebar": "Contents",
   "toc_cell": true,
   "toc_position": {},
   "toc_section_display": true,
   "toc_window_display": false
  }
 },
 "nbformat": 4,
 "nbformat_minor": 4
}
